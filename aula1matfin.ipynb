{
 "cells": [
  {
   "cell_type": "markdown",
   "id": "fb941d5e-50a5-4687-9c99-fc06f3a1d2db",
   "metadata": {},
   "source": [
    "# Aula 01 - Matemática Financeira"
   ]
  },
  {
   "cell_type": "markdown",
   "id": "612861eb-bb99-4e18-8482-0689d4ac8570",
   "metadata": {},
   "source": [
    "### As bibliotecas que iremos usar"
   ]
  },
  {
   "cell_type": "code",
   "execution_count": 8,
   "id": "0361b779-12ca-4a2b-914c-d31aa9ce8614",
   "metadata": {},
   "outputs": [],
   "source": [
    "import sympy as sp\n",
    "import matplotlib.pyplot as plt\n",
    "import pandas"
   ]
  },
  {
   "cell_type": "markdown",
   "id": "99f3c10c-24ea-41e4-b032-8d81076f7705",
   "metadata": {},
   "source": [
    "Aula 01 - página 09\n",
    "\n",
    "Resumo foram revistos os conceitos de razão centesimal, razão porcentual e razão unitária, além dos conceitos envolvendo o cálculo de porcentagem"
   ]
  },
  {
   "cell_type": "markdown",
   "id": "71687687-f1f5-460a-adfd-3461a6c0a1ca",
   "metadata": {},
   "source": [
    "#### Exercícios 1.1"
   ]
  },
  {
   "cell_type": "markdown",
   "id": "b4ed1638-d37a-4bde-9ba6-9e0916fbf234",
   "metadata": {},
   "source": [
    "1. Expresse a fração $\\frac{31}{125}$, em porcentagem "
   ]
  },
  {
   "cell_type": "code",
   "execution_count": 7,
   "id": "673b8f50-dd64-4bbc-837a-33ed9f7b33b5",
   "metadata": {},
   "outputs": [
    {
     "name": "stdout",
     "output_type": "stream",
     "text": [
      "24.8 %\n"
     ]
    }
   ],
   "source": [
    "print ((31/125)*100,'%')"
   ]
  },
  {
   "cell_type": "markdown",
   "id": "4bdc383f-0dff-41e6-955c-2eac6b855c5c",
   "metadata": {},
   "source": [
    "2. Vidal investiu 30% do seu capital em um fundo de ações e o restante em um fundo de renda fixa. Após um mês, as quotas dos fundos de ações e de renda fixa haviam se valorizado 8% e 2,40%, respectivamente. Qual foi a rentabilidade do _capital_ de Vidal nesse mês? "
   ]
  },
  {
   "cell_type": "code",
   "execution_count": 21,
   "id": "92392ff2-549a-4220-855d-f2a763354093",
   "metadata": {},
   "outputs": [
    {
     "data": {
      "text/latex": [
       "$\\displaystyle 4.08$"
      ],
      "text/plain": [
       "4.08000000000000"
      ]
     },
     "execution_count": 21,
     "metadata": {},
     "output_type": "execute_result"
    }
   ],
   "source": [
    "sympy.expand((0.3*0.08+0.7*0.024)*100)\n"
   ]
  },
  {
   "cell_type": "code",
   "execution_count": 22,
   "id": "9a94475e-9e53-4333-b117-f0396ddd2b3d",
   "metadata": {},
   "outputs": [
    {
     "name": "stdout",
     "output_type": "stream",
     "text": [
      "A rentabilidade do capital nesse mês foi  4.08 %\n"
     ]
    }
   ],
   "source": [
    "rentabilidade = round((0.3*0.08 + 0.7*0.024)*100,2)\n",
    "print ('A rentabilidade do capital nesse mês foi ',rentabilidade,'%')"
   ]
  },
  {
   "cell_type": "markdown",
   "id": "aa8a4ed6-3280-4a6b-869a-925d9cdc4943",
   "metadata": {},
   "source": [
    "3. Um lucro de 25% sobre o preço de custo de uma mercadoria corresponde a que percentual se for calculado sobre o preço de venda?"
   ]
  },
  {
   "cell_type": "code",
   "execution_count": 33,
   "id": "6ffb7967-8b2d-4ff9-bee5-d07bee81aa0e",
   "metadata": {},
   "outputs": [
    {
     "name": "stdout",
     "output_type": "stream",
     "text": [
      "20.0 % é o percentual calculado na venda\n"
     ]
    }
   ],
   "source": [
    "# lucro no custo = custo + custo*0.25 = 125 = lc\n",
    "# custo = 100\n",
    "# venda = custo/(custo - lucro) >> lucro = 1 - custo/(lc)\n",
    "percentual_venda = round(100 - (100/125)*100,2)\n",
    "print ( percentual_venda, '% é o percentual calculado na venda')"
   ]
  },
  {
   "cell_type": "markdown",
   "id": "ce2e2dbc-7c37-4891-a651-c20492048a1b",
   "metadata": {},
   "source": [
    "4. Um prejuízo de 50% sobre o preço de custo de uma mercadoria corresponde a que percentual se for calculado sobre o preço de venda?"
   ]
  },
  {
   "cell_type": "code",
   "execution_count": 38,
   "id": "f67fe72d-2f1f-4d3c-802f-9d415d385ead",
   "metadata": {},
   "outputs": [
    {
     "name": "stdout",
     "output_type": "stream",
     "text": [
      "100.0 % é o percentual no preço de venda.\n"
     ]
    }
   ],
   "source": [
    "# preju custo = pc = 100 - 50 = 50 >> pv = 100/50 - 100\n",
    "prejuizo_venda = (100/50 - 1)*100\n",
    "print (prejuizo_venda,'% é o percentual no preço de venda.')"
   ]
  },
  {
   "cell_type": "markdown",
   "id": "80fdfebd-1264-4cf2-b44a-94c9739f6226",
   "metadata": {},
   "source": [
    "5. Se um produto que custa R$40,00 tiver seu preço reajustado sucessivamente em 5% e 10%, qual será o seu preço final?"
   ]
  },
  {
   "cell_type": "code",
   "execution_count": 43,
   "id": "6d7dee58-f399-4d48-95c5-259a17717e41",
   "metadata": {},
   "outputs": [
    {
     "name": "stdout",
     "output_type": "stream",
     "text": [
      "R$46.20, é o preço final do produto.\n"
     ]
    }
   ],
   "source": [
    "# na teoria de aumentos sucessivos é feito assim: capital*(100+p1)*(100+p2)*...\n",
    "preco = round(40*(1+0.05)*(1+0.1),2)\n",
    "print (f'R${preco}0, é o preço final do produto.')"
   ]
  },
  {
   "cell_type": "markdown",
   "id": "1f71f342-c130-40d3-9085-2c82f1a2b36d",
   "metadata": {},
   "source": [
    "6. Se dermos dois descontos sucessivos, um de 5% e outro de 10% a uma mercadoria que tem preço inicial de R$40,00, qual será o seu preço final?"
   ]
  },
  {
   "cell_type": "code",
   "execution_count": 7,
   "id": "c9fc2474-e12b-4179-a918-d70b93eda848",
   "metadata": {},
   "outputs": [
    {
     "name": "stdout",
     "output_type": "stream",
     "text": [
      "O preço final ficará em R$34.20.\n"
     ]
    }
   ],
   "source": [
    "preco_inicial = 40.00\n",
    "preco_final = round(preco_inicial*(1-0.05)*(1-0.10),2)\n",
    "print ( f'O preço final ficará em R${preco_final}0.')"
   ]
  },
  {
   "cell_type": "markdown",
   "id": "02551ed1-2e52-4d12-8b8c-c26832d0250f",
   "metadata": {},
   "source": [
    "7. Antônio ganha 30% a mais que Beatriz; e Carlos, 20% a menos que Antônio. Se a diferença entre os salários de Antônio e Carlos é de R$130,00, qual é o salário de Beatriz?"
   ]
  },
  {
   "cell_type": "code",
   "execution_count": 12,
   "id": "819b05c5-0b3d-4ad6-b1ed-a6b8401ccb5c",
   "metadata": {},
   "outputs": [
    {
     "name": "stdout",
     "output_type": "stream",
     "text": [
      "O salário de Beatriz é R$500.0.\n"
     ]
    }
   ],
   "source": [
    "antonio, beatriz, carlos = sp.symbols('antonio beatriz carlos')\n",
    "# antonio = beatriz(1+0.3)\n",
    "# carlos = antonio(1-0.2)\n",
    "# antonio - carlos =130 -> antonio - (antonio -antonio*0.2) = 130\n",
    "antonio = 130/0.2\n",
    "beatriz = antonio/1.3\n",
    "print (f'O salário de Beatriz é R${beatriz}.')"
   ]
  },
  {
   "cell_type": "markdown",
   "id": "1fc75b01-2f29-46b3-baad-18df81431643",
   "metadata": {},
   "source": [
    "8. O salário de um vendedor é constituido de uma parte fixa igual a R$$2.300,00$, e mais a comissão de 3% sobre o total de vendas que exceder a R$10.000,00$. Estima-se em 10% o percentual de descontos diversos que incidem sobre o salário bruto. Em determinado mês, o vendedor recebeu líquido o valor de R$4.500,00$. Quanto ele vendeu nesse mês?"
   ]
  },
  {
   "cell_type": "code",
   "execution_count": 19,
   "id": "d44124b7-ce3c-4bd6-9be0-fcab7676707a",
   "metadata": {},
   "outputs": [
    {
     "name": "stdout",
     "output_type": "stream",
     "text": [
      "O vendedor fez um total em vendas de R$100000.00\n"
     ]
    }
   ],
   "source": [
    "# O valor líquido da comissão é a diferença (4500/(1-0.1))-2300\n",
    "valor_comissao = (4500/(1-0.1))-2300\n",
    "total_vendas_mes = 10000 + (valor_comissao/0.03)\n",
    "print (f'O vendedor fez um total em vendas de R${total_vendas_mes}0')"
   ]
  },
  {
   "cell_type": "markdown",
   "id": "e83c2110-685e-4d6c-8340-0ee742919488",
   "metadata": {},
   "source": [
    "9. Comprei numa promoção uma calça e uma camisa. Após o término da promoção, a calça ficou 20% mais cara e a camisa, 10% mais cara. Se comprasse as mesmas duas peças, pagando estes novos preços, eu gastaria 16% a mais. A calça em relação à camisa quanto me custou a mais?"
   ]
  },
  {
   "cell_type": "code",
   "execution_count": 18,
   "id": "490aced2-f83b-48a2-9eae-ed88ecdec762",
   "metadata": {},
   "outputs": [
    {
     "name": "stdout",
     "output_type": "stream",
     "text": [
      "a calça é 50.0% mais cara em relação a camisa\n"
     ]
    }
   ],
   "source": [
    "# novos valores -> calca_n = calca(1+0.2) e camisa_n = camisa(1+0.1)\n",
    "camisa,calca = 0.1,0.2\n",
    "valor_calca_pela_camisa = (camisa/calca)*100\n",
    "print (f'a calça é {valor_calca_pela_camisa}% mais cara em relação a camisa')"
   ]
  },
  {
   "cell_type": "markdown",
   "id": "912b7af3-4cb3-4d46-bb00-48e4c1b4e6aa",
   "metadata": {},
   "source": [
    "10. Um certo produto podia ser comprado há alguns meses por 20% do seu valor atual. Qual a porcentagem de aumento sofrido pelo produto neste mesmo período?"
   ]
  },
  {
   "cell_type": "code",
   "execution_count": 26,
   "id": "5aedf515-5863-478c-a52c-c27e894f5931",
   "metadata": {},
   "outputs": [
    {
     "name": "stdout",
     "output_type": "stream",
     "text": [
      " o produto sofreu um aumento de 400.0% nesse período.\n"
     ]
    }
   ],
   "source": [
    "valor_original = 0.2\n",
    "atual= 1-0.2\n",
    "aumento= (atual/valor_original)*100\n",
    "print (f' o produto sofreu um aumento de {aumento}% nesse período.')"
   ]
  },
  {
   "cell_type": "markdown",
   "id": "da218d6f-94ab-44e1-8d27-b5d2aa1e4ed0",
   "metadata": {},
   "source": [
    "11. Se os preços sobem 25% ao mês e o seu salário não se altera, em quanto diminui por mês o seu poder de compra?"
   ]
  },
  {
   "cell_type": "code",
   "execution_count": 33,
   "id": "d01d6689-4966-44ce-86ee-25a13d1c96c4",
   "metadata": {},
   "outputs": [
    {
     "name": "stdout",
     "output_type": "stream",
     "text": [
      "o seu poder de compra cai em 20.0%.\n"
     ]
    }
   ],
   "source": [
    "salario= 1\n",
    "aumento = 0.25\n",
    "diminui = round((salario-(salario/(1+aumento)))*100,2)\n",
    "print (f'o seu poder de compra cai em {diminui}%.')"
   ]
  },
  {
   "cell_type": "markdown",
   "id": "ade3ac85-f1b4-418d-b8ea-75b21a16cf91",
   "metadata": {},
   "source": [
    "12. Certa categoria de trabalhadores obteve em junho um reajuste salarial de 50% sobre o salário de abril, descontadas as antecipações. Sabendo-se que ela havia recebido em maio uma antecipação de 20%, qual foi o percentual do aumento obtido em junho, sobre os salários de maio?"
   ]
  },
  {
   "cell_type": "code",
   "execution_count": 43,
   "id": "30009436-ee11-4ba9-ae1d-de8d32b1dc57",
   "metadata": {},
   "outputs": [
    {
     "name": "stdout",
     "output_type": "stream",
     "text": [
      "O percentual de aumento obtido em junho sobre o salário de maio foi de 25.0%.\n"
     ]
    }
   ],
   "source": [
    "antecipacao = 0.2 # 20%\n",
    "salario = 1 # 100%\n",
    "reajuste = 0.5 # 50%\n",
    "aumento = ((salario + salario*reajuste) - salario/(salario - antecipacao))*100 \n",
    "print (f'O percentual de aumento obtido em junho sobre o salário de maio foi de {aumento}%.')"
   ]
  },
  {
   "cell_type": "markdown",
   "id": "99ab2504-a290-449f-a8df-6920bb730a53",
   "metadata": {},
   "source": [
    "13. Suponha que em certo bimestre a inflação foi de 5% e 4% ao mês, respectivamente. Qual a inflação acumulada nesse bimestre?"
   ]
  },
  {
   "cell_type": "code",
   "execution_count": 47,
   "id": "994a0b7d-3d10-438e-94d1-13c1ec5f4e2b",
   "metadata": {},
   "outputs": [
    {
     "name": "stdout",
     "output_type": "stream",
     "text": [
      "A inflação acumulada do bimestre é 9.2%\n"
     ]
    }
   ],
   "source": [
    "inflacao_mes1 = 0.05\n",
    "inflacao_mes2 = 0.04\n",
    "sem_inflacao = 1\n",
    "inflacao_bimestre = round(((sem_inflacao + inflacao_mes1)*(sem_inflacao + inflacao_mes2) - 1)*100,2)\n",
    "print (f'A inflação acumulada do bimestre é {inflacao_bimestre}%')"
   ]
  },
  {
   "cell_type": "markdown",
   "id": "f71d3133-fcd7-4e2e-b424-9d2ed35765c0",
   "metadata": {},
   "source": [
    "14. Humberto, dispondo de certo capital, fez as seguintes aplicações em um trimestre:\n",
    "    1. aplicou 20% do capital em letra de cambio, nessa aplicação lucrou 30%\n",
    "    2. aplicou 2/5 do capital em fundo de investimento; nessa aplicação perdeu 25%\n",
    "    3. aplicou o restante do capital em caderneta de poupança e seu lucro foi de 10%\n",
    "O que se pode dizer relativamente ao total aplicado? Houve lucro? Houve prejuízo? De quanto?"
   ]
  },
  {
   "cell_type": "code",
   "execution_count": 52,
   "id": "f532c56a-e6a1-419a-890a-e3b55552496e",
   "metadata": {},
   "outputs": [
    {
     "name": "stdout",
     "output_type": "stream",
     "text": [
      "O resultado das aplicações foi 0.0, não houve lucro ou prejuízo\n"
     ]
    }
   ],
   "source": [
    "# Distribuição das aplicações:\n",
    "cambio, fundo = 0.2, 2/5\n",
    "poupanca = 1 - cambio - fundo\n",
    "capital_inicial = cambio + fundo + poupanca\n",
    "# Resultado das aplicações separadamente:\n",
    "resultado_cambio = cambio + cambio*0.3 \n",
    "resultado_fundo = fundo - fundo*0.25\n",
    "resultado_poupanca = poupanca + poupanca*0.1\n",
    "# verificação do resultado das aplicações conjuntamente\n",
    "resultado_aplicacoes = resultado_cambio + resultado_fundo + resultado_poupanca - capital_inicial\n",
    "print (f'O resultado das aplicações foi {resultado_aplicacoes}, não houve lucro ou prejuízo')"
   ]
  }
 ],
 "metadata": {
  "kernelspec": {
   "display_name": "Python 3 (ipykernel)",
   "language": "python",
   "name": "python3"
  },
  "language_info": {
   "codemirror_mode": {
    "name": "ipython",
    "version": 3
   },
   "file_extension": ".py",
   "mimetype": "text/x-python",
   "name": "python",
   "nbconvert_exporter": "python",
   "pygments_lexer": "ipython3",
   "version": "3.10.12"
  }
 },
 "nbformat": 4,
 "nbformat_minor": 5
}
